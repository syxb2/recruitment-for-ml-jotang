{
 "cells": [
  {
   "cell_type": "markdown",
   "metadata": {},
   "source": [
    "## 1. 数据集导入和数据预处理\n",
    "\n",
    "### 加载 csv 文件\n",
    "\n",
    "* pandas.read_csv(): 用于加载CSV格式的数据文件，分别加载训练数据 (train.csv) 和测试数据 (test.csv)。\n",
    "* info() 和 head(): info() 显示数据的基本信息（例如列名、数据类型等），head() 显示数据的前几行内容，用于快速预览数据。"
   ]
  },
  {
   "cell_type": "code",
   "execution_count": 4,
   "metadata": {},
   "outputs": [
    {
     "name": "stdout",
     "output_type": "stream",
     "text": [
      "<class 'pandas.core.frame.DataFrame'>\n",
      "RangeIndex: 333 entries, 0 to 332\n",
      "Data columns (total 15 columns):\n",
      " #   Column   Non-Null Count  Dtype  \n",
      "---  ------   --------------  -----  \n",
      " 0   ID       333 non-null    int64  \n",
      " 1   crim     333 non-null    float64\n",
      " 2   zn       333 non-null    float64\n",
      " 3   indus    333 non-null    float64\n",
      " 4   chas     333 non-null    int64  \n",
      " 5   nox      333 non-null    float64\n",
      " 6   rm       333 non-null    float64\n",
      " 7   age      333 non-null    float64\n",
      " 8   dis      333 non-null    float64\n",
      " 9   rad      333 non-null    int64  \n",
      " 10  tax      333 non-null    int64  \n",
      " 11  ptratio  333 non-null    float64\n",
      " 12  black    333 non-null    float64\n",
      " 13  lstat    333 non-null    float64\n",
      " 14  medv     333 non-null    float64\n",
      "dtypes: float64(11), int64(4)\n",
      "memory usage: 39.1 KB\n",
      "------------------------------------------------------------------------\n",
      "<class 'pandas.core.frame.DataFrame'>\n",
      "RangeIndex: 173 entries, 0 to 172\n",
      "Data columns (total 14 columns):\n",
      " #   Column   Non-Null Count  Dtype  \n",
      "---  ------   --------------  -----  \n",
      " 0   ID       173 non-null    int64  \n",
      " 1   crim     173 non-null    float64\n",
      " 2   zn       173 non-null    float64\n",
      " 3   indus    173 non-null    float64\n",
      " 4   chas     173 non-null    int64  \n",
      " 5   nox      173 non-null    float64\n",
      " 6   rm       173 non-null    float64\n",
      " 7   age      173 non-null    float64\n",
      " 8   dis      173 non-null    float64\n",
      " 9   rad      173 non-null    int64  \n",
      " 10  tax      173 non-null    int64  \n",
      " 11  ptratio  173 non-null    float64\n",
      " 12  black    173 non-null    float64\n",
      " 13  lstat    173 non-null    float64\n",
      "dtypes: float64(10), int64(4)\n",
      "memory usage: 19.0 KB\n"
     ]
    },
    {
     "data": {
      "text/html": [
       "<div>\n",
       "<style scoped>\n",
       "    .dataframe tbody tr th:only-of-type {\n",
       "        vertical-align: middle;\n",
       "    }\n",
       "\n",
       "    .dataframe tbody tr th {\n",
       "        vertical-align: top;\n",
       "    }\n",
       "\n",
       "    .dataframe thead th {\n",
       "        text-align: right;\n",
       "    }\n",
       "</style>\n",
       "<table border=\"1\" class=\"dataframe\">\n",
       "  <thead>\n",
       "    <tr style=\"text-align: right;\">\n",
       "      <th></th>\n",
       "      <th>ID</th>\n",
       "      <th>crim</th>\n",
       "      <th>zn</th>\n",
       "      <th>indus</th>\n",
       "      <th>chas</th>\n",
       "      <th>nox</th>\n",
       "      <th>rm</th>\n",
       "      <th>age</th>\n",
       "      <th>dis</th>\n",
       "      <th>rad</th>\n",
       "      <th>tax</th>\n",
       "      <th>ptratio</th>\n",
       "      <th>black</th>\n",
       "      <th>lstat</th>\n",
       "    </tr>\n",
       "  </thead>\n",
       "  <tbody>\n",
       "    <tr>\n",
       "      <th>0</th>\n",
       "      <td>3</td>\n",
       "      <td>0.02729</td>\n",
       "      <td>0.0</td>\n",
       "      <td>7.07</td>\n",
       "      <td>0</td>\n",
       "      <td>0.469</td>\n",
       "      <td>7.185</td>\n",
       "      <td>61.1</td>\n",
       "      <td>4.9671</td>\n",
       "      <td>2</td>\n",
       "      <td>242</td>\n",
       "      <td>17.8</td>\n",
       "      <td>392.83</td>\n",
       "      <td>4.03</td>\n",
       "    </tr>\n",
       "    <tr>\n",
       "      <th>1</th>\n",
       "      <td>6</td>\n",
       "      <td>0.02985</td>\n",
       "      <td>0.0</td>\n",
       "      <td>2.18</td>\n",
       "      <td>0</td>\n",
       "      <td>0.458</td>\n",
       "      <td>6.430</td>\n",
       "      <td>58.7</td>\n",
       "      <td>6.0622</td>\n",
       "      <td>3</td>\n",
       "      <td>222</td>\n",
       "      <td>18.7</td>\n",
       "      <td>394.12</td>\n",
       "      <td>5.21</td>\n",
       "    </tr>\n",
       "    <tr>\n",
       "      <th>2</th>\n",
       "      <td>8</td>\n",
       "      <td>0.14455</td>\n",
       "      <td>12.5</td>\n",
       "      <td>7.87</td>\n",
       "      <td>0</td>\n",
       "      <td>0.524</td>\n",
       "      <td>6.172</td>\n",
       "      <td>96.1</td>\n",
       "      <td>5.9505</td>\n",
       "      <td>5</td>\n",
       "      <td>311</td>\n",
       "      <td>15.2</td>\n",
       "      <td>396.90</td>\n",
       "      <td>19.15</td>\n",
       "    </tr>\n",
       "    <tr>\n",
       "      <th>3</th>\n",
       "      <td>9</td>\n",
       "      <td>0.21124</td>\n",
       "      <td>12.5</td>\n",
       "      <td>7.87</td>\n",
       "      <td>0</td>\n",
       "      <td>0.524</td>\n",
       "      <td>5.631</td>\n",
       "      <td>100.0</td>\n",
       "      <td>6.0821</td>\n",
       "      <td>5</td>\n",
       "      <td>311</td>\n",
       "      <td>15.2</td>\n",
       "      <td>386.63</td>\n",
       "      <td>29.93</td>\n",
       "    </tr>\n",
       "    <tr>\n",
       "      <th>4</th>\n",
       "      <td>10</td>\n",
       "      <td>0.17004</td>\n",
       "      <td>12.5</td>\n",
       "      <td>7.87</td>\n",
       "      <td>0</td>\n",
       "      <td>0.524</td>\n",
       "      <td>6.004</td>\n",
       "      <td>85.9</td>\n",
       "      <td>6.5921</td>\n",
       "      <td>5</td>\n",
       "      <td>311</td>\n",
       "      <td>15.2</td>\n",
       "      <td>386.71</td>\n",
       "      <td>17.10</td>\n",
       "    </tr>\n",
       "  </tbody>\n",
       "</table>\n",
       "</div>"
      ],
      "text/plain": [
       "   ID     crim    zn  indus  chas    nox     rm    age     dis  rad  tax  \\\n",
       "0   3  0.02729   0.0   7.07     0  0.469  7.185   61.1  4.9671    2  242   \n",
       "1   6  0.02985   0.0   2.18     0  0.458  6.430   58.7  6.0622    3  222   \n",
       "2   8  0.14455  12.5   7.87     0  0.524  6.172   96.1  5.9505    5  311   \n",
       "3   9  0.21124  12.5   7.87     0  0.524  5.631  100.0  6.0821    5  311   \n",
       "4  10  0.17004  12.5   7.87     0  0.524  6.004   85.9  6.5921    5  311   \n",
       "\n",
       "   ptratio   black  lstat  \n",
       "0     17.8  392.83   4.03  \n",
       "1     18.7  394.12   5.21  \n",
       "2     15.2  396.90  19.15  \n",
       "3     15.2  386.63  29.93  \n",
       "4     15.2  386.71  17.10  "
      ]
     },
     "execution_count": 4,
     "metadata": {},
     "output_type": "execute_result"
    }
   ],
   "source": [
    "import pandas\n",
    "\n",
    "train_file_path = './data/train.csv'\n",
    "test_file_path = './data/test.csv'\n",
    "train_data = pandas.read_csv(train_file_path) # 加载 CSV 文件\n",
    "test_data = pandas.read_csv(test_file_path)\n",
    "\n",
    "# 显示数据的前几行以及基本信息\n",
    "train_data_info = train_data.info()\n",
    "train_data_head = train_data.head()\n",
    "\n",
    "train_data_head\n",
    "\n",
    "print('------------------------------------------------------------------------')\n",
    "\n",
    "test_data_info = test_data.info()\n",
    "test_data_head = test_data.head()\n",
    "\n",
    "test_data_head"
   ]
  },
  {
   "cell_type": "markdown",
   "metadata": {},
   "source": [
    "### 数据预处理\n",
    "\n",
    "* 特征和目标变量的分离：我们从数据集中移除了房价的目标列 medv 和 ID 列，特征用于模型的训练和预测，而 medv 作为目标变量。\n",
    "* StandardScaler：对特征进行标准化（归一化），即将每个特征缩放到均值为0，标准差为1的范围。这对于模型训练非常重要，因为不同尺度的特征会影响模型的学习效果。\n"
   ]
  },
  {
   "cell_type": "code",
   "execution_count": 5,
   "metadata": {},
   "outputs": [],
   "source": [
    "from sklearn.preprocessing import StandardScaler # 用于数据预处理\n",
    "\n",
    "# 分离特征和目标变量\n",
    "X_train = train_data.drop(columns=['ID', 'medv'])  # 特征\n",
    "y_train = train_data['medv']  # 目标变量\n",
    "\n",
    "X_test = test_data.drop(columns=['ID'])\n",
    "\n",
    "y_test_path = './data/submission_example.csv'\n",
    "y_test_data = pandas.read_csv(y_test_path)\n",
    "y_test = y_test_data['medv']\n",
    "\n",
    "# 标准化特征\n",
    "scaler = StandardScaler() # 标准化特征通过删除均值并缩放到单位方差。\n",
    "X_train_scaled = scaler.fit_transform(X_train) # 将数据拟合，然后转换它。将变换器拟合到 X 和 y\n",
    "X_test_scaled = scaler.transform(X_test) # 按照中心化和缩放进行标准化。\n",
    "\n",
    "# X_train_scaled[:5]\n",
    "# y_train[:5]  # 查看前5个样本的数据处理结果"
   ]
  },
  {
   "cell_type": "markdown",
   "metadata": {},
   "source": [
    "### 转换数据为Tensor格式\n",
    "\n",
    "* torch.tensor(): 将标准化后的训练和测试数据转换为 PyTorch 的张量格式，以便能够用于神经网络模型的训练和推断。\n",
    "* view(-1, 1): 将目标变量 y_train 和 y_test 的形状调整为 (样本数, 1)，因为我们是在做回归问题，每个样本的输出是一个单一的房价预测值。"
   ]
  },
  {
   "cell_type": "code",
   "execution_count": 6,
   "metadata": {},
   "outputs": [],
   "source": [
    "import torch\n",
    "import torch.nn as nn\n",
    "import torch.optim as optim\n",
    "\n",
    "# 转换数据为Tensor格式\n",
    "X_train_tensor = torch.tensor(X_train_scaled, dtype=torch.float32)\n",
    "X_test_tensor = torch.tensor(X_test_scaled, dtype=torch.float32)\n",
    "y_train_tensor = torch.tensor(y_train.values, dtype=torch.float32).view(-1, 1)\n",
    "y_test_tensor = torch.tensor(y_test.values, dtype=torch.float32).view(-1, 1)"
   ]
  },
  {
   "cell_type": "markdown",
   "metadata": {},
   "source": [
    "## 2. 构建神经网络模型\n",
    "\n",
    "* class BostonHousingModel(nn.Module): 定义一个继承自 nn.Module 的神经网络类，用于构建房价预测模型。\n",
    "* fc1, fc2, fc3: 分别为三层全连接层。第一层接收13个输入特征并输出64个隐藏节点，第二层输出32个节点，最后一层输出一个预测房价的标量。\n",
    "* torch.relu(): ReLU激活函数，定义每个隐藏层的非线性激活，使网络能够学习复杂的非线性关系。\n",
    "\n"
   ]
  },
  {
   "cell_type": "code",
   "execution_count": 7,
   "metadata": {},
   "outputs": [],
   "source": [
    "class BostonHousingModel(nn.Module):\n",
    "    def __init__(self):\n",
    "        super(BostonHousingModel, self).__init__()\n",
    "        self.fc1 = nn.Linear(13, 64)  # 输入13个特征，输出64个节点\n",
    "        self.fc2 = nn.Linear(64, 32)\n",
    "        self.fc3 = nn.Linear(32, 1)   # 输出一个房价预测值\n",
    "\n",
    "    def forward(self, x):\n",
    "        x = torch.relu(self.fc1(x))\n",
    "        x = torch.relu(self.fc2(x))\n",
    "        x = self.fc3(x)\n",
    "        return x\n",
    "\n",
    "# 实例化模型\n",
    "model = BostonHousingModel()\n"
   ]
  },
  {
   "cell_type": "markdown",
   "metadata": {},
   "source": [
    "## 3. 损失函数和优化器\n",
    "\n",
    "* loss_fn = nn.MSELoss(): 定义损失函数为均方误差（MSE），MSE是回归任务中的常用损失函数，用于衡量预测值与实际值的差异。\n",
    "* optimizer = optim.Adam(): 定义优化器为 Adam，Adam 是一种优化算法，它在大多数深度学习任务中表现优异。"
   ]
  },
  {
   "cell_type": "code",
   "execution_count": 8,
   "metadata": {},
   "outputs": [],
   "source": [
    "loss_fn = nn.MSELoss()\n",
    "optimizer = optim.Adam(model.parameters(), lr=0.001)"
   ]
  },
  {
   "cell_type": "markdown",
   "metadata": {},
   "source": [
    "## 3. 训练模型\n",
    "\n",
    "* model.train(): 将模型设置为训练模式，这对于一些特定层如Dropout是有影响的。\n",
    "* optimizer.zero_grad(): 清空梯度缓存（PyTorch默认梯度是累积的）。\n",
    "* predictions = model(X_train_tensor): 前向传播计算模型的预测值。\n",
    "* loss.backward(): 反向传播计算每个参数的梯度。\n",
    "* optimizer.step(): 使用Adam优化器根据梯度更新模型参数。\n",
    "* 每20个epoch输出一次损失值，以便跟踪训练过程。\n"
   ]
  },
  {
   "cell_type": "code",
   "execution_count": 9,
   "metadata": {},
   "outputs": [
    {
     "name": "stdout",
     "output_type": "stream",
     "text": [
      "Epoch 0, Loss: 606.095458984375\n",
      "Epoch 20, Loss: 577.7645263671875\n",
      "Epoch 40, Loss: 529.2919311523438\n",
      "Epoch 60, Loss: 431.3033142089844\n",
      "Epoch 80, Loss: 278.24945068359375\n",
      "Epoch 100, Loss: 142.37112426757812\n",
      "Epoch 120, Loss: 88.0057601928711\n",
      "Epoch 140, Loss: 60.16559982299805\n",
      "Epoch 160, Loss: 43.44068908691406\n",
      "Epoch 180, Loss: 34.29367446899414\n"
     ]
    }
   ],
   "source": [
    "num_epochs = 200\n",
    "for epoch in range(num_epochs):\n",
    "    model.train()\n",
    "    optimizer.zero_grad()  # 清除之前的梯度\n",
    "    predictions = model(X_train_tensor)\n",
    "    loss = loss_fn(predictions, y_train_tensor)\n",
    "    loss.backward()  # 反向传播\n",
    "    optimizer.step()  # 更新模型参数\n",
    "\n",
    "    # 每隔20个epoch输出一次损失\n",
    "    if epoch % 20 == 0:\n",
    "        print(f\"Epoch {epoch}, Loss: {loss.item()}\")"
   ]
  },
  {
   "cell_type": "markdown",
   "metadata": {},
   "source": [
    "## 4. 模型训练完成，接下来将在测试集上评估模型性能\n",
    "\n",
    "* model.eval(): 将模型设置为评估模式，这会影响诸如 Dropout 等层的行为。\n",
    "* with torch.no_grad(): 在评估时禁用梯度计算，以节省内存和计算资源。\n",
    "* 通过前向传播计算测试集上的预测结果，并计算测试集上的损失 test_loss。\n"
   ]
  },
  {
   "cell_type": "code",
   "execution_count": 10,
   "metadata": {},
   "outputs": [
    {
     "name": "stdout",
     "output_type": "stream",
     "text": [
      "Test Loss: 78.98806762695312\n"
     ]
    }
   ],
   "source": [
    "model.eval()\n",
    "with torch.no_grad():\n",
    "    test_predictions = model(X_test_tensor)\n",
    "    test_loss = loss_fn(test_predictions, y_test_tensor)\n",
    "\n",
    "print(f\"Test Loss: {test_loss.item()}\")"
   ]
  }
 ],
 "metadata": {
  "kernelspec": {
   "display_name": ".venv",
   "language": "python",
   "name": "python3"
  },
  "language_info": {
   "codemirror_mode": {
    "name": "ipython",
    "version": 3
   },
   "file_extension": ".py",
   "mimetype": "text/x-python",
   "name": "python",
   "nbconvert_exporter": "python",
   "pygments_lexer": "ipython3",
   "version": "3.10.15"
  }
 },
 "nbformat": 4,
 "nbformat_minor": 2
}
