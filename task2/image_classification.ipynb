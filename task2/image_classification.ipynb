{
 "cells": [
  {
   "cell_type": "markdown",
   "metadata": {},
   "source": [
    "### 导入所需的包"
   ]
  },
  {
   "cell_type": "code",
   "execution_count": 1,
   "metadata": {},
   "outputs": [],
   "source": [
    "import torch\n",
    "import torch.nn as nn\n",
    "import torch.optim as optim\n",
    "import torchvision\n",
    "import torchvision.transforms as transforms\n",
    "from torch.utils.data import DataLoader\n",
    "\n",
    "#! 添加 numpy 和 matplotlib 库\n",
    "import matplotlib.pyplot as plt\n",
    "import numpy as np"
   ]
  },
  {
   "cell_type": "markdown",
   "metadata": {},
   "source": [
    "### 构造数据集"
   ]
  },
  {
   "cell_type": "code",
   "execution_count": 2,
   "metadata": {},
   "outputs": [
    {
     "name": "stdout",
     "output_type": "stream",
     "text": [
      "Files already downloaded and verified\n",
      "Files already downloaded and verified\n"
     ]
    }
   ],
   "source": [
    "# device = torch.device(\n",
    "#     \"cuda\" if torch.cuda.is_available() else \"cpu\"\n",
    "# )\n",
    "device = torch.device(\n",
    "    \"mps\" if torch.backends.mps.is_available else \"cpu\"\n",
    ")  # for MacOS, GPU is mps instead of cuda\n",
    "\n",
    "# TODO:解释参数含义，在?处填入合适的参数\n",
    "batch_size = 64  # 每次小型迭代时传递给模型的样本数量\n",
    "learning_rate = 0.001  # 学习率，即梯度下降算法中，负梯度的系数\n",
    "num_epochs = 10 # 训练的轮数\n",
    "\n",
    "# 转换为 pytorch 要求的 tensor 格式\n",
    "transform = transforms.Compose([transforms.ToTensor()])\n",
    "\n",
    "# 构造训练集和测试集(root可以换为你自己的路径)\n",
    "trainset = torchvision.datasets.CIFAR10(\n",
    "    root=\"./data\", train=True, download=True, transform=transform\n",
    ")\n",
    "trainloader = DataLoader(\n",
    "    trainset, batch_size=batch_size, shuffle=True\n",
    ")  # mini-batch 在这里使用\n",
    "\n",
    "testset = torchvision.datasets.CIFAR10(\n",
    "    root=\"./data\", train=False, download=True, transform=transform\n",
    ")\n",
    "testloader = DataLoader(testset, batch_size=batch_size, shuffle=False)"
   ]
  },
  {
   "cell_type": "markdown",
   "metadata": {},
   "source": [
    "### 构造模型"
   ]
  },
  {
   "cell_type": "code",
   "execution_count": 3,
   "metadata": {},
   "outputs": [
    {
     "data": {
      "text/plain": [
       "Network(\n",
       "  (conv1): Conv2d(3, 32, kernel_size=(3, 3), stride=(1, 1), padding=(1, 1))\n",
       "  (bn1): BatchNorm2d(32, eps=1e-05, momentum=0.1, affine=True, track_running_stats=True)\n",
       "  (conv2): Conv2d(32, 64, kernel_size=(3, 3), stride=(1, 1), padding=(1, 1))\n",
       "  (bn2): BatchNorm2d(64, eps=1e-05, momentum=0.1, affine=True, track_running_stats=True)\n",
       "  (pool): MaxPool2d(kernel_size=2, stride=2, padding=0, dilation=1, ceil_mode=False)\n",
       "  (dropout): Dropout(p=0.25, inplace=False)\n",
       "  (fc1): Linear(in_features=4096, out_features=512, bias=True)\n",
       "  (fc2): Linear(in_features=512, out_features=10, bias=True)\n",
       ")"
      ]
     },
     "execution_count": 3,
     "metadata": {},
     "output_type": "execute_result"
    }
   ],
   "source": [
    "#! 模型优化：可以尝试新的损失函数，新的优化器，新的网络结构等。\n",
    "#! 这里我们添加了批量归一化层，dropout层，多加了一个线性层，使模型的准确率得到提升。\n",
    "# 构造模型\n",
    "class Network(nn.Module):\n",
    "    def __init__(self):\n",
    "        super(Network, self).__init__()\n",
    "        self.conv1 = nn.Conv2d(3, 32, kernel_size=3, padding=1)  # 卷积层1\n",
    "        self.bn1 = nn.BatchNorm2d(32)  # 批量归一化层1，可以加速收敛，提高精度\n",
    "        self.conv2 = nn.Conv2d(32, 64, kernel_size=3, padding=1)  # 卷积层2\n",
    "        self.bn2 = nn.BatchNorm2d(64)  # 批量归一化层2\n",
    "        self.pool = nn.MaxPool2d(2, 2)  # 池化层\n",
    "        self.dropout = nn.Dropout(\n",
    "            0.25\n",
    "        )  # Dropout层，随机丢弃一部分神经元，可以防止过拟合，\n",
    "        self.fc1 = nn.Linear(64 * 8 * 8, 512)  # 全连接层1\n",
    "        self.fc2 = nn.Linear(512, 10)  # 全连接层2\n",
    "\n",
    "    def forward(self, x):\n",
    "        x = self.pool(nn.functional.relu(self.bn1(self.conv1(x))))\n",
    "        x = self.pool(nn.functional.relu(self.bn2(self.conv2(x))))\n",
    "        x = x.view(-1, 64 * 8 * 8)  # 展平\n",
    "        x = nn.functional.relu(self.fc1(x))\n",
    "        x = self.dropout(x)\n",
    "        x = self.fc2(x)\n",
    "\n",
    "        return x\n",
    "\n",
    "model = Network()  # 实例化模型\n",
    "model.to(device)"
   ]
  },
  {
   "cell_type": "markdown",
   "metadata": {},
   "source": [
    "### 损失函数和优化器"
   ]
  },
  {
   "cell_type": "code",
   "execution_count": 4,
   "metadata": {},
   "outputs": [],
   "source": [
    "# 损失函数\n",
    "criterion = nn.CrossEntropyLoss()  # torch 中 交叉熵损失函数\n",
    "# 优化器\n",
    "optimizer = optim.Adam(model.parameters(), lr=learning_rate)"
   ]
  },
  {
   "cell_type": "markdown",
   "metadata": {},
   "source": [
    "### 训练函数"
   ]
  },
  {
   "cell_type": "code",
   "execution_count": 5,
   "metadata": {},
   "outputs": [],
   "source": [
    "# 训练：将循环封装进一个函数中\n",
    "#! 为了图像可视化，我在这里将训练结果保存在一个列表中，最后返回\n",
    "def train() -> list:\n",
    "    results = []\n",
    "\n",
    "    model.train()  # 模型设置为训练模式\n",
    "    for epoch in range(num_epochs):  # 训练轮数\n",
    "        running_loss = 0.0\n",
    "        correct = 0\n",
    "        total = 0\n",
    "        for i, data in enumerate(trainloader, 0):  # 每一轮分为 batch 个迭代\n",
    "            inputs, labels = data\n",
    "            inputs, labels = inputs.to(device), labels.to(device)\n",
    "\n",
    "            optimizer.zero_grad()  # 梯度清零\n",
    "\n",
    "            # 前馈\n",
    "            outputs = model(inputs)\n",
    "            loss = criterion(outputs, labels)\n",
    "\n",
    "            # 反馈\n",
    "            loss.backward()\n",
    "            # 更新\n",
    "            optimizer.step()\n",
    "\n",
    "            # 计算每个 batch 的损失\n",
    "            running_loss += loss.item()\n",
    "\n",
    "            _, predicted = torch.max(outputs.data, 1)  # 输出预测值\n",
    "            total += labels.size(0)  # 标签总数\n",
    "            correct += (predicted == labels).sum().item()  # 正确预测数\n",
    "\n",
    "        accuracy = 100 * correct / total\n",
    "        #! 将损失单独保存\n",
    "        loss = running_loss / len(trainloader)\n",
    "\n",
    "        #! 将损失和准确率分别保存在列表的两列中\n",
    "        results.append([loss, accuracy])\n",
    "\n",
    "        print(\n",
    "            f\"Epoch [{epoch + 1}/{num_epochs}], Loss: {loss:.4f}, Accuracy: {accuracy:.2f}%\"\n",
    "        )\n",
    "    # print(results)\n",
    "\n",
    "    return results"
   ]
  },
  {
   "cell_type": "markdown",
   "metadata": {},
   "source": [
    "### 测试函数"
   ]
  },
  {
   "cell_type": "code",
   "execution_count": 6,
   "metadata": {},
   "outputs": [],
   "source": [
    "def test():\n",
    "    model.eval()  # 模型设置为评估模式\n",
    "    correct = 0\n",
    "    total = 0\n",
    "    with torch.no_grad():  # 测试时不需计算梯度\n",
    "        for data in testloader:\n",
    "            images, labels = data\n",
    "            images, labels = images.to(device), labels.to(device)\n",
    "            outputs = model(images)\n",
    "            _, predicted = torch.max(outputs.data, 1)\n",
    "            total += labels.size(0)\n",
    "            correct += (predicted == labels).sum().item()\n",
    "\n",
    "    accuracy = 100 * correct / total\n",
    "    print(f\"Accuracy of the model on the 10000 test images: {accuracy:.2f}%\")"
   ]
  },
  {
   "cell_type": "markdown",
   "metadata": {},
   "source": [
    "### 画图函数"
   ]
  },
  {
   "cell_type": "code",
   "execution_count": 7,
   "metadata": {},
   "outputs": [],
   "source": [
    "def plot_results(results: list) -> None:\n",
    "    #! 将列表转换为 numpy 数组\n",
    "    results = np.array(results)\n",
    "\n",
    "    #! 将 损失列 和 准确率列 分别提取出来\n",
    "    loss = results[:, 0]\n",
    "    accuracy = results[:, 1]\n",
    "\n",
    "    #! 绘制一个柱状图，横坐标为 epoch，左纵坐标为 loss，右纵坐标为 accuracy\n",
    "    epochs = np.arange(1, len(loss) + 1) # 创建一个包含从 1 到 len(loss) 的整数序列的 NumPy 数组\n",
    "    width = 0.4  # 柱状图的宽度，即柱子的宽度和两个柱子之间的间隔\n",
    "\n",
    "    _, axe1 = plt.subplots() # figure 是整个图形窗口，axe1 是第一个子图\n",
    "    axe1.bar(epochs - width/2, loss, width, label='Loss', color='b')\n",
    "    axe1.set_xlabel('Epoch')\n",
    "    axe1.set_ylabel('Loss', color='b') # b - blue\n",
    "\n",
    "    axe2 = axe1.twinx() # 创建第二个子图，其 x 轴不可见（与第一个子图共享 x 轴。）\n",
    "    axe2.bar(epochs + width/2, accuracy, width, label='Accuracy', color='r')\n",
    "    axe2.set_ylabel('Accuracy (%)', color='r') # r - red\n",
    "\n",
    "    plt.show() # 显示图形窗口"
   ]
  },
  {
   "cell_type": "markdown",
   "metadata": {},
   "source": [
    "#### for `numpy.arange()`:\n",
    "\n",
    "```python\n",
    "epochs = np.arange(1, len(loss) + 1) # 创建一个包含从 1 到 len(loss) 的整数序列的 NumPy 数组\n",
    "```\n",
    "\n",
    "* 使用 NumPy 的 arange 函数创建一个从 1 到 len(loss) 的整数序列数组。这个数组表示每个 epoch 的编号。\n",
    "\n",
    "#### for `matplotlib.pyplot.subplots().bar()`, the docs say:\n",
    "\n",
    "Make a bar plot(柱状图).\n",
    "\n",
    "The bars are positioned at x with the given align\\ment. Their dimensions are given by height and width. The vertical baseline is bottom (default 0).\n",
    "\n",
    "Many parameters can take either a single value applying to all bars or a sequence of values, one for each bar.\n",
    "\n",
    "Such as:\n",
    "\n",
    "```python\n",
    "axe1.bar(epochs - width/2, loss, width, label='Loss', color='b')\n",
    "```\n",
    "\n",
    "* `epochs - width/2` 是每个柱子的位置。\n",
    "    * 每个 epoch 的编号减去柱状图的宽度的一半，这样可以让柱状图在 x = epochs 处居中显示。\n",
    "\n",
    "#### for `matplotlib.pyplot.subplots()twinx()`, the docs say:\n",
    "\n",
    "Create a twin Axes sharing the xaxis.\n",
    "\n",
    "Create a new Axes with an **invisible x-axis** and an **independent y-axis positioned opposite to the original one (i.e. at right)**. The x-axis autoscale setting will be inherited from the original Axes. To ensure that the tick marks of both y-axes align, see ~matplotlib.ticker.LinearLocator."
   ]
  },
  {
   "cell_type": "markdown",
   "metadata": {},
   "source": [
    "### 主函数"
   ]
  },
  {
   "cell_type": "code",
   "execution_count": 8,
   "metadata": {},
   "outputs": [
    {
     "name": "stdout",
     "output_type": "stream",
     "text": [
      "Epoch [1/10], Loss: 1.3114, Accuracy: 53.03%\n",
      "Epoch [2/10], Loss: 0.9864, Accuracy: 64.99%\n",
      "Epoch [3/10], Loss: 0.8662, Accuracy: 69.51%\n",
      "Epoch [4/10], Loss: 0.7814, Accuracy: 72.60%\n",
      "Epoch [5/10], Loss: 0.6958, Accuracy: 75.30%\n",
      "Epoch [6/10], Loss: 0.6337, Accuracy: 77.53%\n",
      "Epoch [7/10], Loss: 0.5683, Accuracy: 79.82%\n",
      "Epoch [8/10], Loss: 0.5142, Accuracy: 81.88%\n",
      "Epoch [9/10], Loss: 0.4626, Accuracy: 83.41%\n",
      "Epoch [10/10], Loss: 0.4109, Accuracy: 85.40%\n",
      "[[1.3113827790750567, 53.032], [0.9864150337550951, 64.988], [0.8661594400015633, 69.514], [0.7814097360271932, 72.598], [0.6957812260102738, 75.3], [0.6336590186180666, 77.528], [0.568269621323594, 79.822], [0.5142310907697434, 81.882], [0.4625549253524112, 83.406], [0.41091199590803107, 85.398]]\n",
      "Accuracy of the model on the 10000 test images: 70.20%\n"
     ]
    },
    {
     "data": {
      "image/png": "[encoded data removed]",
      "text/plain": [
       "<Figure size 640x480 with 2 Axes>"
      ]
     },
     "metadata": {},
     "output_type": "display_data"
    }
   ],
   "source": [
    "#! 主函数\n",
    "def main() -> None:\n",
    "    results = train()\n",
    "    test()\n",
    "    plot_results(results)\n",
    "\n",
    "    return\n",
    "\n",
    "if __name__ == \"__main__\":\n",
    "    main()"
   ]
  }
 ],
 "metadata": {
  "kernelspec": {
   "display_name": ".venv",
   "language": "python",
   "name": "python3"
  },
  "language_info": {
   "codemirror_mode": {
    "name": "ipython",
    "version": 3
   },
   "file_extension": ".py",
   "mimetype": "text/x-python",
   "name": "python",
   "nbconvert_exporter": "python",
   "pygments_lexer": "ipython3",
   "version": "3.10.15"
  }
 },
 "nbformat": 4,
 "nbformat_minor": 2
}
